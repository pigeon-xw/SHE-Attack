{
 "cells": [
  {
   "cell_type": "code",
   "execution_count": 1,
   "metadata": {},
   "outputs": [],
   "source": [
    "from Crypto.Util.number import *\n",
    "from random import *\n",
    "class iSHE:\n",
    "    \n",
    "    def __init__(self,k_0 , k_r , k_M):\n",
    "        self.k_0 = k_0  \n",
    "        self.k_r = k_r\n",
    "        self.k_M = k_M \n",
    "    def keygen(self):\n",
    "        #   /**\n",
    "        #    * k_0 : The bit length of prime numbers p and q is usually 1024\n",
    "        #    * k_r : Parameter L and the length of the random value are used in the encryption algorithm and are usually 80\n",
    "        #    * k_M : The message space definition range is usually 30\n",
    "        #    */\n",
    "        k_0 = self.k_0\n",
    "        k_M = self.k_M\n",
    "        k_r = self.k_r\n",
    "        assert(k_0 > k_r and k_r > k_M and k_M > 0) # The parameters must satisfy the relationship\n",
    "        p = getPrime(k_0)\n",
    "        q = getPrime(k_0)\n",
    "        N = p * q\n",
    "        s = randint(0 , N)\n",
    "        L = getrandbits(k_r)\n",
    "        self.Mspace = (-2**(k_M-1) , 2**(k_M-1))\n",
    "        self.sk = (s, p, L)\n",
    "        self.pk = (k_0,k_r , N , self.Mspace)\n",
    "        return self.sk, self.pk\n",
    "    def enc(self,m, d):\n",
    "        assert(m < self.Mspace[1] and m >= self.Mspace[0])# // Input data must be in space\n",
    "        tmp = m\n",
    "        r = getrandbits(self.k_r)#        // r = {0,1}^k_r\n",
    "        r1 = getrandbits(self.k_0)#       // r' ={0,1}^k_0\n",
    "        m1 = pow(self.sk[0], d, self.pk[2])#     // m' = s^d\n",
    "        m1 *= (r * self.sk[2] + tmp)#                    // m' = s*(rL+m)\n",
    "        m1 = m1 * (1 + r1 * self.sk[1]) % self.pk[2] # // m' = s*(rL+m)*(1+r'p) mod N\n",
    "        return m1 , d\n",
    "\n"
   ]
  },
  {
   "cell_type": "code",
   "execution_count": 24,
   "metadata": {},
   "outputs": [],
   "source": [
    "from sage.all import *\n",
    "\n",
    "ishe = iSHE(1024 , 600 , 30)\n",
    "_ , pk = ishe.keygen()\n",
    "k_0 , k_r , N , _ = pk\n",
    "cnt = 20\n",
    "m1list = []\n",
    "for i in range(cnt):\n",
    "    m = getrandbits(29)\n",
    "    m1 , _ = ishe.enc(m , 114514)\n",
    "    m1list.append(m1)\n",
    "mbit = k_r * 2\n",
    "sbit = k_0\n",
    "M = Matrix(ZZ , cnt+1)\n",
    "for i in range(cnt):\n",
    "    M[i , i] = N\n",
    "    M[-1, i] = m1list[i] \n",
    "M[-1 , -1] = 1\n",
    "res = M.LLL()"
   ]
  },
  {
   "cell_type": "code",
   "execution_count": 25,
   "metadata": {},
   "outputs": [
    {
     "name": "stdout",
     "output_type": "stream",
     "text": [
      "True\n",
      "True\n"
     ]
    }
   ],
   "source": [
    "q = GCD(N , res[1][-1])\n",
    "p = N // q\n",
    "print(isPrime(p))\n",
    "print(isPrime(q))\n"
   ]
  },
  {
   "cell_type": "code",
   "execution_count": 18,
   "metadata": {},
   "outputs": [
    {
     "data": {
      "text/plain": [
       "175938816068719469857392217067174228977295972057082224256445515916691950307504984015451167797683064353694267329661031310222359441400101748644910609030674464993187453976376114888613796068526836946734159367133912273958329206188788238309707052107350364308070618853207445283139877499630353817401884762625504389983"
      ]
     },
     "execution_count": 18,
     "metadata": {},
     "output_type": "execute_result"
    }
   ],
   "source": [
    "q"
   ]
  },
  {
   "cell_type": "code",
   "execution_count": 19,
   "metadata": {},
   "outputs": [
    {
     "name": "stdout",
     "output_type": "stream",
     "text": [
      "1026\n"
     ]
    }
   ],
   "source": [
    "print(len(bin(p)))"
   ]
  }
 ],
 "metadata": {
  "kernelspec": {
   "display_name": "crypto",
   "language": "python",
   "name": "python3"
  },
  "language_info": {
   "codemirror_mode": {
    "name": "ipython",
    "version": 3
   },
   "file_extension": ".py",
   "mimetype": "text/x-python",
   "name": "python",
   "nbconvert_exporter": "python",
   "pygments_lexer": "ipython3",
   "version": "3.11.8"
  }
 },
 "nbformat": 4,
 "nbformat_minor": 2
}
